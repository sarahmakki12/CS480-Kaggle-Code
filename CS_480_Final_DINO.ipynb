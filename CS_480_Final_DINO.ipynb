{
  "nbformat": 4,
  "nbformat_minor": 0,
  "metadata": {
    "colab": {
      "provenance": [],
      "gpuType": "T4",
      "machine_shape": "hm"
    },
    "kernelspec": {
      "name": "python3",
      "display_name": "Python 3"
    },
    "language_info": {
      "name": "python"
    },
    "accelerator": "GPU",
    "widgets": {
      "application/vnd.jupyter.widget-state+json": {
        "ed9025401dc34a5293d1acce26d84536": {
          "model_module": "@jupyter-widgets/controls",
          "model_name": "HBoxModel",
          "model_module_version": "1.5.0",
          "state": {
            "_dom_classes": [],
            "_model_module": "@jupyter-widgets/controls",
            "_model_module_version": "1.5.0",
            "_model_name": "HBoxModel",
            "_view_count": null,
            "_view_module": "@jupyter-widgets/controls",
            "_view_module_version": "1.5.0",
            "_view_name": "HBoxView",
            "box_style": "",
            "children": [
              "IPY_MODEL_1f9183cdcd0948119500625a4cd3951c",
              "IPY_MODEL_f1ca2f275a0941dd9376e909074121e7",
              "IPY_MODEL_15a4b89622de49388e76cfaf7bb740a0"
            ],
            "layout": "IPY_MODEL_73060224bf684be6bee33a541b9d0b83"
          }
        },
        "1f9183cdcd0948119500625a4cd3951c": {
          "model_module": "@jupyter-widgets/controls",
          "model_name": "HTMLModel",
          "model_module_version": "1.5.0",
          "state": {
            "_dom_classes": [],
            "_model_module": "@jupyter-widgets/controls",
            "_model_module_version": "1.5.0",
            "_model_name": "HTMLModel",
            "_view_count": null,
            "_view_module": "@jupyter-widgets/controls",
            "_view_module_version": "1.5.0",
            "_view_name": "HTMLView",
            "description": "",
            "description_tooltip": null,
            "layout": "IPY_MODEL_e9a1cc4973d944d5ac7a91728391d2b0",
            "placeholder": "​",
            "style": "IPY_MODEL_a31445d87ed34152b28f2f3f755e6a9f",
            "value": "100%"
          }
        },
        "f1ca2f275a0941dd9376e909074121e7": {
          "model_module": "@jupyter-widgets/controls",
          "model_name": "FloatProgressModel",
          "model_module_version": "1.5.0",
          "state": {
            "_dom_classes": [],
            "_model_module": "@jupyter-widgets/controls",
            "_model_module_version": "1.5.0",
            "_model_name": "FloatProgressModel",
            "_view_count": null,
            "_view_module": "@jupyter-widgets/controls",
            "_view_module_version": "1.5.0",
            "_view_name": "ProgressView",
            "bar_style": "success",
            "description": "",
            "description_tooltip": null,
            "layout": "IPY_MODEL_e91af56c8d24488b8a1d436c3470bb95",
            "max": 6,
            "min": 0,
            "orientation": "horizontal",
            "style": "IPY_MODEL_6282d6f770474e918c56628e50655c91",
            "value": 6
          }
        },
        "15a4b89622de49388e76cfaf7bb740a0": {
          "model_module": "@jupyter-widgets/controls",
          "model_name": "HTMLModel",
          "model_module_version": "1.5.0",
          "state": {
            "_dom_classes": [],
            "_model_module": "@jupyter-widgets/controls",
            "_model_module_version": "1.5.0",
            "_model_name": "HTMLModel",
            "_view_count": null,
            "_view_module": "@jupyter-widgets/controls",
            "_view_module_version": "1.5.0",
            "_view_name": "HTMLView",
            "description": "",
            "description_tooltip": null,
            "layout": "IPY_MODEL_0fa30cf0087d4a6d8f9ee9cdadaf8748",
            "placeholder": "​",
            "style": "IPY_MODEL_a2f47fe1f10144568785a65e6ca7595c",
            "value": " 6/6 [2:34:51&lt;00:00, 1538.44s/it]"
          }
        },
        "73060224bf684be6bee33a541b9d0b83": {
          "model_module": "@jupyter-widgets/base",
          "model_name": "LayoutModel",
          "model_module_version": "1.2.0",
          "state": {
            "_model_module": "@jupyter-widgets/base",
            "_model_module_version": "1.2.0",
            "_model_name": "LayoutModel",
            "_view_count": null,
            "_view_module": "@jupyter-widgets/base",
            "_view_module_version": "1.2.0",
            "_view_name": "LayoutView",
            "align_content": null,
            "align_items": null,
            "align_self": null,
            "border": null,
            "bottom": null,
            "display": null,
            "flex": null,
            "flex_flow": null,
            "grid_area": null,
            "grid_auto_columns": null,
            "grid_auto_flow": null,
            "grid_auto_rows": null,
            "grid_column": null,
            "grid_gap": null,
            "grid_row": null,
            "grid_template_areas": null,
            "grid_template_columns": null,
            "grid_template_rows": null,
            "height": null,
            "justify_content": null,
            "justify_items": null,
            "left": null,
            "margin": null,
            "max_height": null,
            "max_width": null,
            "min_height": null,
            "min_width": null,
            "object_fit": null,
            "object_position": null,
            "order": null,
            "overflow": null,
            "overflow_x": null,
            "overflow_y": null,
            "padding": null,
            "right": null,
            "top": null,
            "visibility": null,
            "width": null
          }
        },
        "e9a1cc4973d944d5ac7a91728391d2b0": {
          "model_module": "@jupyter-widgets/base",
          "model_name": "LayoutModel",
          "model_module_version": "1.2.0",
          "state": {
            "_model_module": "@jupyter-widgets/base",
            "_model_module_version": "1.2.0",
            "_model_name": "LayoutModel",
            "_view_count": null,
            "_view_module": "@jupyter-widgets/base",
            "_view_module_version": "1.2.0",
            "_view_name": "LayoutView",
            "align_content": null,
            "align_items": null,
            "align_self": null,
            "border": null,
            "bottom": null,
            "display": null,
            "flex": null,
            "flex_flow": null,
            "grid_area": null,
            "grid_auto_columns": null,
            "grid_auto_flow": null,
            "grid_auto_rows": null,
            "grid_column": null,
            "grid_gap": null,
            "grid_row": null,
            "grid_template_areas": null,
            "grid_template_columns": null,
            "grid_template_rows": null,
            "height": null,
            "justify_content": null,
            "justify_items": null,
            "left": null,
            "margin": null,
            "max_height": null,
            "max_width": null,
            "min_height": null,
            "min_width": null,
            "object_fit": null,
            "object_position": null,
            "order": null,
            "overflow": null,
            "overflow_x": null,
            "overflow_y": null,
            "padding": null,
            "right": null,
            "top": null,
            "visibility": null,
            "width": null
          }
        },
        "a31445d87ed34152b28f2f3f755e6a9f": {
          "model_module": "@jupyter-widgets/controls",
          "model_name": "DescriptionStyleModel",
          "model_module_version": "1.5.0",
          "state": {
            "_model_module": "@jupyter-widgets/controls",
            "_model_module_version": "1.5.0",
            "_model_name": "DescriptionStyleModel",
            "_view_count": null,
            "_view_module": "@jupyter-widgets/base",
            "_view_module_version": "1.2.0",
            "_view_name": "StyleView",
            "description_width": ""
          }
        },
        "e91af56c8d24488b8a1d436c3470bb95": {
          "model_module": "@jupyter-widgets/base",
          "model_name": "LayoutModel",
          "model_module_version": "1.2.0",
          "state": {
            "_model_module": "@jupyter-widgets/base",
            "_model_module_version": "1.2.0",
            "_model_name": "LayoutModel",
            "_view_count": null,
            "_view_module": "@jupyter-widgets/base",
            "_view_module_version": "1.2.0",
            "_view_name": "LayoutView",
            "align_content": null,
            "align_items": null,
            "align_self": null,
            "border": null,
            "bottom": null,
            "display": null,
            "flex": null,
            "flex_flow": null,
            "grid_area": null,
            "grid_auto_columns": null,
            "grid_auto_flow": null,
            "grid_auto_rows": null,
            "grid_column": null,
            "grid_gap": null,
            "grid_row": null,
            "grid_template_areas": null,
            "grid_template_columns": null,
            "grid_template_rows": null,
            "height": null,
            "justify_content": null,
            "justify_items": null,
            "left": null,
            "margin": null,
            "max_height": null,
            "max_width": null,
            "min_height": null,
            "min_width": null,
            "object_fit": null,
            "object_position": null,
            "order": null,
            "overflow": null,
            "overflow_x": null,
            "overflow_y": null,
            "padding": null,
            "right": null,
            "top": null,
            "visibility": null,
            "width": null
          }
        },
        "6282d6f770474e918c56628e50655c91": {
          "model_module": "@jupyter-widgets/controls",
          "model_name": "ProgressStyleModel",
          "model_module_version": "1.5.0",
          "state": {
            "_model_module": "@jupyter-widgets/controls",
            "_model_module_version": "1.5.0",
            "_model_name": "ProgressStyleModel",
            "_view_count": null,
            "_view_module": "@jupyter-widgets/base",
            "_view_module_version": "1.2.0",
            "_view_name": "StyleView",
            "bar_color": null,
            "description_width": ""
          }
        },
        "0fa30cf0087d4a6d8f9ee9cdadaf8748": {
          "model_module": "@jupyter-widgets/base",
          "model_name": "LayoutModel",
          "model_module_version": "1.2.0",
          "state": {
            "_model_module": "@jupyter-widgets/base",
            "_model_module_version": "1.2.0",
            "_model_name": "LayoutModel",
            "_view_count": null,
            "_view_module": "@jupyter-widgets/base",
            "_view_module_version": "1.2.0",
            "_view_name": "LayoutView",
            "align_content": null,
            "align_items": null,
            "align_self": null,
            "border": null,
            "bottom": null,
            "display": null,
            "flex": null,
            "flex_flow": null,
            "grid_area": null,
            "grid_auto_columns": null,
            "grid_auto_flow": null,
            "grid_auto_rows": null,
            "grid_column": null,
            "grid_gap": null,
            "grid_row": null,
            "grid_template_areas": null,
            "grid_template_columns": null,
            "grid_template_rows": null,
            "height": null,
            "justify_content": null,
            "justify_items": null,
            "left": null,
            "margin": null,
            "max_height": null,
            "max_width": null,
            "min_height": null,
            "min_width": null,
            "object_fit": null,
            "object_position": null,
            "order": null,
            "overflow": null,
            "overflow_x": null,
            "overflow_y": null,
            "padding": null,
            "right": null,
            "top": null,
            "visibility": null,
            "width": null
          }
        },
        "a2f47fe1f10144568785a65e6ca7595c": {
          "model_module": "@jupyter-widgets/controls",
          "model_name": "DescriptionStyleModel",
          "model_module_version": "1.5.0",
          "state": {
            "_model_module": "@jupyter-widgets/controls",
            "_model_module_version": "1.5.0",
            "_model_name": "DescriptionStyleModel",
            "_view_count": null,
            "_view_module": "@jupyter-widgets/base",
            "_view_module_version": "1.2.0",
            "_view_name": "StyleView",
            "description_width": ""
          }
        }
      }
    }
  },
  "cells": [
    {
      "cell_type": "code",
      "source": [
        "!pip install kaggle\n",
        "!echo '{\"username\":\"sarahali1223\",\"key\":\"39d9946ae36527c2440edf25fbdc9ccf\"}' > kaggle.json\n",
        "!mkdir -p /root/.kaggle\n",
        "!mv kaggle.json /root/.kaggle\n",
        "!chmod 600 /root/.kaggle/kaggle.json\n",
        "!kaggle competitions download -c cs-480-2024-spring\n",
        "!unzip *.zip"
      ],
      "metadata": {
        "colab": {
          "base_uri": "https://localhost:8080/"
        },
        "collapsed": true,
        "id": "uZqpc490VMAJ",
        "outputId": "f05f8aea-698a-4f81-d5ed-29a7ed900492"
      },
      "execution_count": 2,
      "outputs": [
        {
          "output_type": "stream",
          "name": "stdout",
          "text": [
            "Requirement already satisfied: kaggle in /usr/local/lib/python3.10/dist-packages (1.6.17)\n",
            "Requirement already satisfied: six>=1.10 in /usr/local/lib/python3.10/dist-packages (from kaggle) (1.16.0)\n",
            "Requirement already satisfied: certifi>=2023.7.22 in /usr/local/lib/python3.10/dist-packages (from kaggle) (2024.7.4)\n",
            "Requirement already satisfied: python-dateutil in /usr/local/lib/python3.10/dist-packages (from kaggle) (2.8.2)\n",
            "Requirement already satisfied: requests in /usr/local/lib/python3.10/dist-packages (from kaggle) (2.32.3)\n",
            "Requirement already satisfied: tqdm in /usr/local/lib/python3.10/dist-packages (from kaggle) (4.66.5)\n",
            "Requirement already satisfied: python-slugify in /usr/local/lib/python3.10/dist-packages (from kaggle) (8.0.4)\n",
            "Requirement already satisfied: urllib3 in /usr/local/lib/python3.10/dist-packages (from kaggle) (2.0.7)\n",
            "Requirement already satisfied: bleach in /usr/local/lib/python3.10/dist-packages (from kaggle) (6.1.0)\n",
            "Requirement already satisfied: webencodings in /usr/local/lib/python3.10/dist-packages (from bleach->kaggle) (0.5.1)\n",
            "Requirement already satisfied: text-unidecode>=1.3 in /usr/local/lib/python3.10/dist-packages (from python-slugify->kaggle) (1.3)\n",
            "Requirement already satisfied: charset-normalizer<4,>=2 in /usr/local/lib/python3.10/dist-packages (from requests->kaggle) (3.3.2)\n",
            "Requirement already satisfied: idna<4,>=2.5 in /usr/local/lib/python3.10/dist-packages (from requests->kaggle) (3.7)\n",
            "Traceback (most recent call last):\n",
            "  File \"/usr/local/lib/python3.10/dist-packages/pip/_vendor/pkg_resources/__init__.py\", line 3070, in _dep_map\n",
            "    return self.__dep_map\n",
            "  File \"/usr/local/lib/python3.10/dist-packages/pip/_vendor/pkg_resources/__init__.py\", line 2863, in __getattr__\n",
            "    raise AttributeError(attr)\n",
            "AttributeError: _DistInfoDistribution__dep_map\n",
            "\n",
            "During handling of the above exception, another exception occurred:\n",
            "\n",
            "Traceback (most recent call last):\n",
            "  File \"/usr/local/lib/python3.10/dist-packages/pip/_vendor/pkg_resources/__init__.py\", line 3061, in _parsed_pkg_info\n",
            "    return self._pkg_info\n",
            "  File \"/usr/local/lib/python3.10/dist-packages/pip/_vendor/pkg_resources/__init__.py\", line 2863, in __getattr__\n",
            "    raise AttributeError(attr)\n",
            "AttributeError: _pkg_info. Did you mean: 'egg_info'?\n",
            "\n",
            "During handling of the above exception, another exception occurred:\n",
            "\n",
            "Traceback (most recent call last):\n",
            "  File \"/usr/local/lib/python3.10/dist-packages/pip/_internal/cli/base_command.py\", line 179, in exc_logging_wrapper\n",
            "    status = run_func(*args)\n",
            "  File \"/usr/local/lib/python3.10/dist-packages/pip/_internal/cli/req_command.py\", line 67, in wrapper\n",
            "    return func(self, options, args)\n",
            "  File \"/usr/local/lib/python3.10/dist-packages/pip/_internal/commands/install.py\", line 447, in run\n",
            "    conflicts = self._determine_conflicts(to_install)\n",
            "  File \"/usr/local/lib/python3.10/dist-packages/pip/_internal/commands/install.py\", line 578, in _determine_conflicts\n",
            "    return check_install_conflicts(to_install)\n",
            "  File \"/usr/local/lib/python3.10/dist-packages/pip/_internal/operations/check.py\", line 101, in check_install_conflicts\n",
            "    package_set, _ = create_package_set_from_installed()\n",
            "  File \"/usr/local/lib/python3.10/dist-packages/pip/_internal/operations/check.py\", line 42, in create_package_set_from_installed\n",
            "    dependencies = list(dist.iter_dependencies())\n",
            "  File \"/usr/local/lib/python3.10/dist-packages/pip/_internal/metadata/pkg_resources.py\", line 247, in iter_dependencies\n",
            "    return self._dist.requires(extras)\n",
            "  File \"/usr/local/lib/python3.10/dist-packages/pip/_vendor/pkg_resources/__init__.py\", line 2786, in requires\n",
            "    dm = self._dep_map\n",
            "  File \"/usr/local/lib/python3.10/dist-packages/pip/_vendor/pkg_resources/__init__.py\", line 3072, in _dep_map\n",
            "    self.__dep_map = self._compute_dependencies()\n",
            "  File \"/usr/local/lib/python3.10/dist-packages/pip/_vendor/pkg_resources/__init__.py\", line 3081, in _compute_dependencies\n",
            "    for req in self._parsed_pkg_info.get_all('Requires-Dist') or []:\n",
            "  File \"/usr/local/lib/python3.10/dist-packages/pip/_vendor/pkg_resources/__init__.py\", line 3063, in _parsed_pkg_info\n",
            "    metadata = self.get_metadata(self.PKG_INFO)\n",
            "  File \"/usr/local/lib/python3.10/dist-packages/pip/_vendor/pkg_resources/__init__.py\", line 1488, in get_metadata\n",
            "    value = self._get(path)\n",
            "  File \"/usr/local/lib/python3.10/dist-packages/pip/_vendor/pkg_resources/__init__.py\", line 1697, in _get\n",
            "    return stream.read()\n",
            "KeyboardInterrupt\n",
            "\n",
            "During handling of the above exception, another exception occurred:\n",
            "\n",
            "Traceback (most recent call last):\n",
            "  File \"/usr/lib/python3.10/logging/__init__.py\", line 1732, in isEnabledFor\n",
            "    return self._cache[level]\n",
            "KeyError: 50\n",
            "\n",
            "During handling of the above exception, another exception occurred:\n",
            "\n",
            "Traceback (most recent call last):\n",
            "  File \"/usr/local/bin/pip3\", line 8, in <module>\n",
            "    sys.exit(main())\n",
            "  File \"/usr/local/lib/python3.10/dist-packages/pip/_internal/cli/main.py\", line 80, in main\n",
            "    return command.main(cmd_args)\n",
            "  File \"/usr/local/lib/python3.10/dist-packages/pip/_internal/cli/base_command.py\", line 100, in main\n",
            "    return self._main(args)\n",
            "  File \"/usr/local/lib/python3.10/dist-packages/pip/_internal/cli/base_command.py\", line 232, in _main\n",
            "    return run(options, args)\n",
            "  File \"/usr/local/lib/python3.10/dist-packages/pip/_internal/cli/base_command.py\", line 215, in exc_logging_wrapper\n",
            "    logger.critical(\"Operation cancelled by user\")\n",
            "  File \"/usr/lib/python3.10/logging/__init__.py\", line 1523, in critical\n",
            "    if self.isEnabledFor(CRITICAL):\n",
            "  File \"/usr/lib/python3.10/logging/__init__.py\", line 1743, in isEnabledFor\n",
            "    _releaseLock()\n",
            "  File \"/usr/lib/python3.10/logging/__init__.py\", line 233, in _releaseLock\n",
            "    _lock.release()\n",
            "KeyboardInterrupt\n",
            "^C\n",
            "User cancelled operation\n",
            "Archive:  cs-480-2024-spring.zip\n",
            "replace data/sample_submission.csv? [y]es, [n]o, [A]ll, [N]one, [r]ename: "
          ]
        }
      ]
    },
    {
      "cell_type": "code",
      "source": [
        "!pip install catboost"
      ],
      "metadata": {
        "collapsed": true,
        "colab": {
          "base_uri": "https://localhost:8080/"
        },
        "id": "4i3gEjthVbkU",
        "outputId": "bfa5ce3a-1ace-496a-df9e-7c02f6c9c0b4"
      },
      "execution_count": 1,
      "outputs": [
        {
          "output_type": "stream",
          "name": "stdout",
          "text": [
            "Requirement already satisfied: catboost in /usr/local/lib/python3.10/dist-packages (1.2.5)\n",
            "Requirement already satisfied: graphviz in /usr/local/lib/python3.10/dist-packages (from catboost) (0.20.3)\n",
            "Requirement already satisfied: matplotlib in /usr/local/lib/python3.10/dist-packages (from catboost) (3.7.1)\n",
            "Requirement already satisfied: numpy>=1.16.0 in /usr/local/lib/python3.10/dist-packages (from catboost) (1.26.4)\n",
            "Requirement already satisfied: pandas>=0.24 in /usr/local/lib/python3.10/dist-packages (from catboost) (2.1.4)\n",
            "Requirement already satisfied: scipy in /usr/local/lib/python3.10/dist-packages (from catboost) (1.13.1)\n",
            "Requirement already satisfied: plotly in /usr/local/lib/python3.10/dist-packages (from catboost) (5.15.0)\n",
            "Requirement already satisfied: six in /usr/local/lib/python3.10/dist-packages (from catboost) (1.16.0)\n",
            "Requirement already satisfied: python-dateutil>=2.8.2 in /usr/local/lib/python3.10/dist-packages (from pandas>=0.24->catboost) (2.8.2)\n",
            "Requirement already satisfied: pytz>=2020.1 in /usr/local/lib/python3.10/dist-packages (from pandas>=0.24->catboost) (2024.1)\n",
            "Requirement already satisfied: tzdata>=2022.1 in /usr/local/lib/python3.10/dist-packages (from pandas>=0.24->catboost) (2024.1)\n",
            "Requirement already satisfied: contourpy>=1.0.1 in /usr/local/lib/python3.10/dist-packages (from matplotlib->catboost) (1.2.1)\n",
            "Requirement already satisfied: cycler>=0.10 in /usr/local/lib/python3.10/dist-packages (from matplotlib->catboost) (0.12.1)\n",
            "Requirement already satisfied: fonttools>=4.22.0 in /usr/local/lib/python3.10/dist-packages (from matplotlib->catboost) (4.53.1)\n",
            "Requirement already satisfied: kiwisolver>=1.0.1 in /usr/local/lib/python3.10/dist-packages (from matplotlib->catboost) (1.4.5)\n",
            "Requirement already satisfied: packaging>=20.0 in /usr/local/lib/python3.10/dist-packages (from matplotlib->catboost) (24.1)\n",
            "Requirement already satisfied: pillow>=6.2.0 in /usr/local/lib/python3.10/dist-packages (from matplotlib->catboost) (9.4.0)\n",
            "Requirement already satisfied: pyparsing>=2.3.1 in /usr/local/lib/python3.10/dist-packages (from matplotlib->catboost) (3.1.2)\n",
            "Requirement already satisfied: tenacity>=6.2.0 in /usr/local/lib/python3.10/dist-packages (from plotly->catboost) (9.0.0)\n"
          ]
        }
      ]
    },
    {
      "cell_type": "code",
      "execution_count": 17,
      "metadata": {
        "id": "4x5YqslrUlrA"
      },
      "outputs": [],
      "source": [
        "import os\n",
        "\n",
        "import numpy as np\n",
        "import pandas as pd\n",
        "import torch\n",
        "from PIL import Image\n",
        "from tqdm.notebook import tqdm\n",
        "from sklearn.preprocessing import StandardScaler, PolynomialFeatures\n",
        "from sklearn.model_selection import train_test_split\n",
        "from sklearn.metrics import r2_score\n",
        "from catboost import Pool, CatBoostRegressor\n",
        "from torchvision import transforms\n",
        "from scipy import stats\n",
        "\n",
        "tqdm.pandas()"
      ]
    },
    {
      "cell_type": "markdown",
      "source": [
        "# Config"
      ],
      "metadata": {
        "id": "t_RHOxpfVilt"
      }
    },
    {
      "cell_type": "code",
      "source": [
        "TARGET_COLUMNS = ['X4_mean', 'X11_mean', 'X18_mean', 'X50_mean', 'X26_mean', 'X3112_mean']\n",
        "\n",
        "seed = 42\n",
        "device = 'cuda:0' if torch.cuda.is_available() else 'cpu'\n",
        "\n",
        "os.environ['PYTHONHASHSEED'] = str(seed)\n",
        "np.random.seed(seed)\n",
        "torch.manual_seed(seed)\n",
        "torch.cuda.manual_seed(seed)\n",
        "\n",
        "device"
      ],
      "metadata": {
        "colab": {
          "base_uri": "https://localhost:8080/",
          "height": 36
        },
        "id": "8vxvLc4IVhRA",
        "outputId": "6fdb264d-6053-4485-8077-08b4ca6b2e46"
      },
      "execution_count": 26,
      "outputs": [
        {
          "output_type": "execute_result",
          "data": {
            "text/plain": [
              "'cuda:0'"
            ],
            "application/vnd.google.colaboratory.intrinsic+json": {
              "type": "string"
            }
          },
          "metadata": {},
          "execution_count": 26
        }
      ]
    },
    {
      "cell_type": "markdown",
      "source": [
        "# Load and split DataFrames"
      ],
      "metadata": {
        "id": "KE-EvIhbVoop"
      }
    },
    {
      "cell_type": "code",
      "source": [
        "# load dataframes from public dataset; split to train-val\n",
        "train0 = pd.read_csv('/content/data/train.csv')\n",
        "train0['file_path'] = train0['id'].apply(lambda s: f'/content/data/train_images/{s}.jpeg')\n",
        "\n",
        "test = pd.read_csv('/content/data/test.csv')\n",
        "test['file_path'] = test['id'].apply(lambda s: f'/content/data/test_images/{s}.jpeg')\n",
        "FEATURE_COLUMNS = test.columns.values[1:-1]\n",
        "\n",
        "train, val = train_test_split(train0, test_size=0.2, shuffle=True, random_state=seed)\n",
        "train = train.reset_index(drop=True)\n",
        "val = val.reset_index(drop=True)"
      ],
      "metadata": {
        "id": "nKwyLI1CVq0D"
      },
      "execution_count": 5,
      "outputs": []
    },
    {
      "cell_type": "markdown",
      "source": [
        "# Filter outliers"
      ],
      "metadata": {
        "id": "uY2h4-FsW5am"
      }
    },
    {
      "cell_type": "code",
      "source": [
        "def get_mask(df):\n",
        "  within = {}\n",
        "  for id, col in enumerate(TARGET_COLUMNS):\n",
        "    within[id] = np.abs(stats.zscore(df[col])) < 3\n",
        "  return np.logical_and.reduce((within[0], within[1], within[2], within[3], within[4], within[5]))\n",
        "\n",
        "train_mask = train[get_mask(train)]\n",
        "val_mask = val[get_mask(val)]"
      ],
      "metadata": {
        "id": "upmnEu0oW3xW"
      },
      "execution_count": 27,
      "outputs": []
    },
    {
      "cell_type": "markdown",
      "source": [
        "# Scale features"
      ],
      "metadata": {
        "id": "HTKP92DeXBj2"
      }
    },
    {
      "cell_type": "code",
      "source": [
        "FEATURE_SCALER = StandardScaler()\n",
        "train_features_mask = FEATURE_SCALER.fit_transform(train_mask[FEATURE_COLUMNS].values.astype(np.float32))\n",
        "val_features_mask = FEATURE_SCALER.transform(val_mask[FEATURE_COLUMNS].values.astype(np.float32))\n",
        "test_features = FEATURE_SCALER.transform(test[FEATURE_COLUMNS].values.astype(np.float32))\n",
        "\n",
        "y_train_mask = train_mask[TARGET_COLUMNS].values\n",
        "y_val_mask = val_mask[TARGET_COLUMNS].values"
      ],
      "metadata": {
        "id": "O72LI1jKXA5y"
      },
      "execution_count": 7,
      "outputs": []
    },
    {
      "cell_type": "markdown",
      "source": [
        "# Get DINO image embeddings"
      ],
      "metadata": {
        "id": "L0gPAcXuXIDK"
      }
    },
    {
      "cell_type": "code",
      "source": [
        "def get_image_embeddings_dino(model, preprocess, batch_size, df):\n",
        "    image_embeddings = []\n",
        "    for i in tqdm(range(0, len(df), batch_size)):\n",
        "        paths = df['file_path'][i:i + batch_size]\n",
        "        image_tensor = torch.stack([preprocess(Image.open(path)) for path in paths]).to(device)\n",
        "        with torch.no_grad():\n",
        "            curr_image_embeddings = model(image_tensor)\n",
        "        image_embeddings.extend(curr_image_embeddings.cpu().numpy())\n",
        "    return image_embeddings"
      ],
      "metadata": {
        "id": "D_EPywxkXKPs"
      },
      "execution_count": 8,
      "outputs": []
    },
    {
      "cell_type": "code",
      "source": [
        "RECOMPUTE_IMAGE_EMBEDDINGS = True\n",
        "\n",
        "if RECOMPUTE_IMAGE_EMBEDDINGS:\n",
        "    model = torch.hub.load('facebookresearch/dinov2', 'dinov2_vitg14_reg').to(device)\n",
        "    model.eval()\n",
        "    preprocess = transforms.Compose([\n",
        "        transforms.Resize(224, interpolation=3),\n",
        "        transforms.ToTensor(),\n",
        "        transforms.Normalize((0.485, 0.456, 0.406), (0.229, 0.224, 0.225)), #using ImageNet normalization\n",
        "    ])\n",
        "\n",
        "    batch_size = 64\n",
        "    suffix = 'image_embs'\n",
        "    train_image_embeddings = get_image_embeddings_dino(model, preprocess, batch_size, train_mask)\n",
        "    np.save(f'train_{suffix}', np.array(train_image_embeddings))\n",
        "    val_image_embeddings = get_image_embeddings_dino(model, preprocess, batch_size, val_mask)\n",
        "    np.save(f'val_{suffix}', np.array(val_image_embeddings))\n",
        "    test_image_embeddings = get_image_embeddings_dino(model, preprocess, batch_size, test)\n",
        "    np.save(f'test_{suffix}', np.array(test_image_embeddings))\n",
        "else:\n",
        "    suffix = 'image_embs'\n",
        "    train_image_embeddings = np.load(f'/content/train_{suffix}.npy')\n",
        "    val_image_embeddings = np.load(f'/content/val_{suffix}.npy')\n",
        "    test_image_embeddings = np.load(f'/content/test_{suffix}.npy')\n",
        "    print(f'Embeddings {suffix} loaded from dataset.')"
      ],
      "metadata": {
        "colab": {
          "base_uri": "https://localhost:8080/"
        },
        "id": "vNMzubbzXMfy",
        "outputId": "c4162733-9822-464b-ee58-ec5c6b4f7a7d"
      },
      "execution_count": 9,
      "outputs": [
        {
          "output_type": "stream",
          "name": "stdout",
          "text": [
            "Embeddings image_embs loaded from dataset.\n"
          ]
        }
      ]
    },
    {
      "cell_type": "markdown",
      "source": [
        "# Add polynomial features"
      ],
      "metadata": {
        "id": "mFWSIAxz0544"
      }
    },
    {
      "cell_type": "code",
      "source": [
        "train_features_mask_all = np.concatenate(\n",
        "    (PolynomialFeatures(2).fit_transform(train_features_mask)[:, :1000], train_image_embeddings), axis=1\n",
        ")\n",
        "val_features_mask_all = np.concatenate(\n",
        "    (PolynomialFeatures(2).fit_transform(val_features_mask)[:, :1000], val_image_embeddings), axis=1\n",
        ")\n",
        "test_features_all = np.concatenate(\n",
        "    (PolynomialFeatures(2).fit_transform(test_features)[:, :1000], test_image_embeddings), axis=1\n",
        ")"
      ],
      "metadata": {
        "id": "ox2fHARY08f9"
      },
      "execution_count": 10,
      "outputs": []
    },
    {
      "cell_type": "code",
      "source": [
        "train_features_mask_df = pd.DataFrame(train_features_mask_all)\n",
        "train_features_mask_df['emb'] = list(train_image_embeddings)\n",
        "\n",
        "val_features_mask_df = pd.DataFrame(val_features_mask_all)\n",
        "val_features_mask_df['emb'] = list(val_image_embeddings)\n",
        "\n",
        "test_features_mask_df = pd.DataFrame(test_features_all)\n",
        "test_features_mask_df['emb'] = list(test_image_embeddings)"
      ],
      "metadata": {
        "id": "gFizes5K1E2B"
      },
      "execution_count": 11,
      "outputs": []
    },
    {
      "cell_type": "markdown",
      "source": [
        "# Train CatBoost"
      ],
      "metadata": {
        "id": "UDgvhzCC1H-E"
      }
    },
    {
      "cell_type": "code",
      "source": [
        "%%time\n",
        "models = {}\n",
        "scores = {}\n",
        "for i, col in tqdm(enumerate(TARGET_COLUMNS), total=len(TARGET_COLUMNS)):\n",
        "    y_curr = y_train_mask[:, i]\n",
        "    y_curr_val = y_val_mask[:, i]\n",
        "    train_pool = Pool(train_features_mask_df, y_curr, embedding_features=['emb'])\n",
        "    val_pool = Pool(val_features_mask_df, y_curr_val, embedding_features=['emb'])\n",
        "\n",
        "    model = CatBoostRegressor(iterations=2000, learning_rate = 0.07, depth=8, loss_function='RMSE',\n",
        "                              verbose = 0, random_state=seed, task_type=\"GPU\", devices='0')\n",
        "    model.fit(train_pool)\n",
        "    models[col] = model\n",
        "\n",
        "    y_curr_val_pred = model.predict(val_pool)\n",
        "\n",
        "    r2_col = r2_score(y_curr_val, y_curr_val_pred)\n",
        "    scores[col] = r2_col\n",
        "    print(f'Target: {col}, R2: {r2_col:.3f}')"
      ],
      "metadata": {
        "colab": {
          "base_uri": "https://localhost:8080/",
          "height": 213,
          "referenced_widgets": [
            "ed9025401dc34a5293d1acce26d84536",
            "1f9183cdcd0948119500625a4cd3951c",
            "f1ca2f275a0941dd9376e909074121e7",
            "15a4b89622de49388e76cfaf7bb740a0",
            "73060224bf684be6bee33a541b9d0b83",
            "e9a1cc4973d944d5ac7a91728391d2b0",
            "a31445d87ed34152b28f2f3f755e6a9f",
            "e91af56c8d24488b8a1d436c3470bb95",
            "6282d6f770474e918c56628e50655c91",
            "0fa30cf0087d4a6d8f9ee9cdadaf8748",
            "a2f47fe1f10144568785a65e6ca7595c"
          ]
        },
        "id": "Q6iMMoVY1JiY",
        "outputId": "aec3bbbe-7534-47ee-f617-3bee1e245562"
      },
      "execution_count": 13,
      "outputs": [
        {
          "output_type": "display_data",
          "data": {
            "text/plain": [
              "  0%|          | 0/6 [00:00<?, ?it/s]"
            ],
            "application/vnd.jupyter.widget-view+json": {
              "version_major": 2,
              "version_minor": 0,
              "model_id": "ed9025401dc34a5293d1acce26d84536"
            }
          },
          "metadata": {}
        },
        {
          "output_type": "stream",
          "name": "stdout",
          "text": [
            "Target: X4_mean, R2: 0.520\n",
            "Target: X11_mean, R2: 0.482\n",
            "Target: X18_mean, R2: 0.620\n",
            "Target: X50_mean, R2: 0.390\n",
            "Target: X26_mean, R2: 0.355\n",
            "Target: X3112_mean, R2: 0.501\n",
            "Mean R2: 0.478\n",
            "CPU times: user 2h 38min 54s, sys: 35.6 s, total: 2h 39min 30s\n",
            "Wall time: 2h 34min 51s\n"
          ]
        }
      ]
    },
    {
      "cell_type": "markdown",
      "source": [
        "# Submission"
      ],
      "metadata": {
        "id": "rybMEymBV5Gc"
      }
    },
    {
      "cell_type": "code",
      "source": [
        "submission = pd.DataFrame({'id': test['id']})\n",
        "for i, col in enumerate(TARGET_COLUMNS):\n",
        "    test_pool = Pool(test_features_mask_df, embedding_features=['emb'])\n",
        "    col_pred = models[col].predict(test_pool)\n",
        "    submission[col.replace('_mean', '')] = col_pred\n",
        "\n",
        "submission = submission.reindex(columns=[\"id\", \"X4\", \"X11\", \"X18\", \"X26\", \"X50\", \"X3112\"])\n",
        "submission.head()"
      ],
      "metadata": {
        "colab": {
          "base_uri": "https://localhost:8080/",
          "height": 206
        },
        "id": "ENJRIBWRV8pN",
        "outputId": "57c119f7-87e5-4dd6-d2ab-63f68d731ce1"
      },
      "execution_count": 14,
      "outputs": [
        {
          "output_type": "execute_result",
          "data": {
            "text/plain": [
              "          id        X4         X11           X18          X26        X50  \\\n",
              "0  154220505  1.126255  145.265036  19708.192033  3494.700804  15.089887   \n",
              "1  195736552  0.946652  153.215798  19699.742205  3460.716326  14.857638   \n",
              "2  182701773  0.980872  146.319944  19699.069683  3459.370964  14.958562   \n",
              "3   27688500  0.988727  138.462792  19699.264606  3480.267833  16.017378   \n",
              "4  195825045  0.900524  153.715954  19699.596550  3462.907895  14.845607   \n",
              "\n",
              "           X3112  \n",
              "0  399722.501434  \n",
              "1  399036.977354  \n",
              "2  397981.216567  \n",
              "3  398039.947268  \n",
              "4  398988.570426  "
            ],
            "text/html": [
              "\n",
              "  <div id=\"df-7ffe9c99-0a43-4433-8c52-4fce13921c40\" class=\"colab-df-container\">\n",
              "    <div>\n",
              "<style scoped>\n",
              "    .dataframe tbody tr th:only-of-type {\n",
              "        vertical-align: middle;\n",
              "    }\n",
              "\n",
              "    .dataframe tbody tr th {\n",
              "        vertical-align: top;\n",
              "    }\n",
              "\n",
              "    .dataframe thead th {\n",
              "        text-align: right;\n",
              "    }\n",
              "</style>\n",
              "<table border=\"1\" class=\"dataframe\">\n",
              "  <thead>\n",
              "    <tr style=\"text-align: right;\">\n",
              "      <th></th>\n",
              "      <th>id</th>\n",
              "      <th>X4</th>\n",
              "      <th>X11</th>\n",
              "      <th>X18</th>\n",
              "      <th>X26</th>\n",
              "      <th>X50</th>\n",
              "      <th>X3112</th>\n",
              "    </tr>\n",
              "  </thead>\n",
              "  <tbody>\n",
              "    <tr>\n",
              "      <th>0</th>\n",
              "      <td>154220505</td>\n",
              "      <td>1.126255</td>\n",
              "      <td>145.265036</td>\n",
              "      <td>19708.192033</td>\n",
              "      <td>3494.700804</td>\n",
              "      <td>15.089887</td>\n",
              "      <td>399722.501434</td>\n",
              "    </tr>\n",
              "    <tr>\n",
              "      <th>1</th>\n",
              "      <td>195736552</td>\n",
              "      <td>0.946652</td>\n",
              "      <td>153.215798</td>\n",
              "      <td>19699.742205</td>\n",
              "      <td>3460.716326</td>\n",
              "      <td>14.857638</td>\n",
              "      <td>399036.977354</td>\n",
              "    </tr>\n",
              "    <tr>\n",
              "      <th>2</th>\n",
              "      <td>182701773</td>\n",
              "      <td>0.980872</td>\n",
              "      <td>146.319944</td>\n",
              "      <td>19699.069683</td>\n",
              "      <td>3459.370964</td>\n",
              "      <td>14.958562</td>\n",
              "      <td>397981.216567</td>\n",
              "    </tr>\n",
              "    <tr>\n",
              "      <th>3</th>\n",
              "      <td>27688500</td>\n",
              "      <td>0.988727</td>\n",
              "      <td>138.462792</td>\n",
              "      <td>19699.264606</td>\n",
              "      <td>3480.267833</td>\n",
              "      <td>16.017378</td>\n",
              "      <td>398039.947268</td>\n",
              "    </tr>\n",
              "    <tr>\n",
              "      <th>4</th>\n",
              "      <td>195825045</td>\n",
              "      <td>0.900524</td>\n",
              "      <td>153.715954</td>\n",
              "      <td>19699.596550</td>\n",
              "      <td>3462.907895</td>\n",
              "      <td>14.845607</td>\n",
              "      <td>398988.570426</td>\n",
              "    </tr>\n",
              "  </tbody>\n",
              "</table>\n",
              "</div>\n",
              "    <div class=\"colab-df-buttons\">\n",
              "\n",
              "  <div class=\"colab-df-container\">\n",
              "    <button class=\"colab-df-convert\" onclick=\"convertToInteractive('df-7ffe9c99-0a43-4433-8c52-4fce13921c40')\"\n",
              "            title=\"Convert this dataframe to an interactive table.\"\n",
              "            style=\"display:none;\">\n",
              "\n",
              "  <svg xmlns=\"http://www.w3.org/2000/svg\" height=\"24px\" viewBox=\"0 -960 960 960\">\n",
              "    <path d=\"M120-120v-720h720v720H120Zm60-500h600v-160H180v160Zm220 220h160v-160H400v160Zm0 220h160v-160H400v160ZM180-400h160v-160H180v160Zm440 0h160v-160H620v160ZM180-180h160v-160H180v160Zm440 0h160v-160H620v160Z\"/>\n",
              "  </svg>\n",
              "    </button>\n",
              "\n",
              "  <style>\n",
              "    .colab-df-container {\n",
              "      display:flex;\n",
              "      gap: 12px;\n",
              "    }\n",
              "\n",
              "    .colab-df-convert {\n",
              "      background-color: #E8F0FE;\n",
              "      border: none;\n",
              "      border-radius: 50%;\n",
              "      cursor: pointer;\n",
              "      display: none;\n",
              "      fill: #1967D2;\n",
              "      height: 32px;\n",
              "      padding: 0 0 0 0;\n",
              "      width: 32px;\n",
              "    }\n",
              "\n",
              "    .colab-df-convert:hover {\n",
              "      background-color: #E2EBFA;\n",
              "      box-shadow: 0px 1px 2px rgba(60, 64, 67, 0.3), 0px 1px 3px 1px rgba(60, 64, 67, 0.15);\n",
              "      fill: #174EA6;\n",
              "    }\n",
              "\n",
              "    .colab-df-buttons div {\n",
              "      margin-bottom: 4px;\n",
              "    }\n",
              "\n",
              "    [theme=dark] .colab-df-convert {\n",
              "      background-color: #3B4455;\n",
              "      fill: #D2E3FC;\n",
              "    }\n",
              "\n",
              "    [theme=dark] .colab-df-convert:hover {\n",
              "      background-color: #434B5C;\n",
              "      box-shadow: 0px 1px 3px 1px rgba(0, 0, 0, 0.15);\n",
              "      filter: drop-shadow(0px 1px 2px rgba(0, 0, 0, 0.3));\n",
              "      fill: #FFFFFF;\n",
              "    }\n",
              "  </style>\n",
              "\n",
              "    <script>\n",
              "      const buttonEl =\n",
              "        document.querySelector('#df-7ffe9c99-0a43-4433-8c52-4fce13921c40 button.colab-df-convert');\n",
              "      buttonEl.style.display =\n",
              "        google.colab.kernel.accessAllowed ? 'block' : 'none';\n",
              "\n",
              "      async function convertToInteractive(key) {\n",
              "        const element = document.querySelector('#df-7ffe9c99-0a43-4433-8c52-4fce13921c40');\n",
              "        const dataTable =\n",
              "          await google.colab.kernel.invokeFunction('convertToInteractive',\n",
              "                                                    [key], {});\n",
              "        if (!dataTable) return;\n",
              "\n",
              "        const docLinkHtml = 'Like what you see? Visit the ' +\n",
              "          '<a target=\"_blank\" href=https://colab.research.google.com/notebooks/data_table.ipynb>data table notebook</a>'\n",
              "          + ' to learn more about interactive tables.';\n",
              "        element.innerHTML = '';\n",
              "        dataTable['output_type'] = 'display_data';\n",
              "        await google.colab.output.renderOutput(dataTable, element);\n",
              "        const docLink = document.createElement('div');\n",
              "        docLink.innerHTML = docLinkHtml;\n",
              "        element.appendChild(docLink);\n",
              "      }\n",
              "    </script>\n",
              "  </div>\n",
              "\n",
              "\n",
              "<div id=\"df-62f0498e-e6ad-42f1-9659-4236f7d5b9ab\">\n",
              "  <button class=\"colab-df-quickchart\" onclick=\"quickchart('df-62f0498e-e6ad-42f1-9659-4236f7d5b9ab')\"\n",
              "            title=\"Suggest charts\"\n",
              "            style=\"display:none;\">\n",
              "\n",
              "<svg xmlns=\"http://www.w3.org/2000/svg\" height=\"24px\"viewBox=\"0 0 24 24\"\n",
              "     width=\"24px\">\n",
              "    <g>\n",
              "        <path d=\"M19 3H5c-1.1 0-2 .9-2 2v14c0 1.1.9 2 2 2h14c1.1 0 2-.9 2-2V5c0-1.1-.9-2-2-2zM9 17H7v-7h2v7zm4 0h-2V7h2v10zm4 0h-2v-4h2v4z\"/>\n",
              "    </g>\n",
              "</svg>\n",
              "  </button>\n",
              "\n",
              "<style>\n",
              "  .colab-df-quickchart {\n",
              "      --bg-color: #E8F0FE;\n",
              "      --fill-color: #1967D2;\n",
              "      --hover-bg-color: #E2EBFA;\n",
              "      --hover-fill-color: #174EA6;\n",
              "      --disabled-fill-color: #AAA;\n",
              "      --disabled-bg-color: #DDD;\n",
              "  }\n",
              "\n",
              "  [theme=dark] .colab-df-quickchart {\n",
              "      --bg-color: #3B4455;\n",
              "      --fill-color: #D2E3FC;\n",
              "      --hover-bg-color: #434B5C;\n",
              "      --hover-fill-color: #FFFFFF;\n",
              "      --disabled-bg-color: #3B4455;\n",
              "      --disabled-fill-color: #666;\n",
              "  }\n",
              "\n",
              "  .colab-df-quickchart {\n",
              "    background-color: var(--bg-color);\n",
              "    border: none;\n",
              "    border-radius: 50%;\n",
              "    cursor: pointer;\n",
              "    display: none;\n",
              "    fill: var(--fill-color);\n",
              "    height: 32px;\n",
              "    padding: 0;\n",
              "    width: 32px;\n",
              "  }\n",
              "\n",
              "  .colab-df-quickchart:hover {\n",
              "    background-color: var(--hover-bg-color);\n",
              "    box-shadow: 0 1px 2px rgba(60, 64, 67, 0.3), 0 1px 3px 1px rgba(60, 64, 67, 0.15);\n",
              "    fill: var(--button-hover-fill-color);\n",
              "  }\n",
              "\n",
              "  .colab-df-quickchart-complete:disabled,\n",
              "  .colab-df-quickchart-complete:disabled:hover {\n",
              "    background-color: var(--disabled-bg-color);\n",
              "    fill: var(--disabled-fill-color);\n",
              "    box-shadow: none;\n",
              "  }\n",
              "\n",
              "  .colab-df-spinner {\n",
              "    border: 2px solid var(--fill-color);\n",
              "    border-color: transparent;\n",
              "    border-bottom-color: var(--fill-color);\n",
              "    animation:\n",
              "      spin 1s steps(1) infinite;\n",
              "  }\n",
              "\n",
              "  @keyframes spin {\n",
              "    0% {\n",
              "      border-color: transparent;\n",
              "      border-bottom-color: var(--fill-color);\n",
              "      border-left-color: var(--fill-color);\n",
              "    }\n",
              "    20% {\n",
              "      border-color: transparent;\n",
              "      border-left-color: var(--fill-color);\n",
              "      border-top-color: var(--fill-color);\n",
              "    }\n",
              "    30% {\n",
              "      border-color: transparent;\n",
              "      border-left-color: var(--fill-color);\n",
              "      border-top-color: var(--fill-color);\n",
              "      border-right-color: var(--fill-color);\n",
              "    }\n",
              "    40% {\n",
              "      border-color: transparent;\n",
              "      border-right-color: var(--fill-color);\n",
              "      border-top-color: var(--fill-color);\n",
              "    }\n",
              "    60% {\n",
              "      border-color: transparent;\n",
              "      border-right-color: var(--fill-color);\n",
              "    }\n",
              "    80% {\n",
              "      border-color: transparent;\n",
              "      border-right-color: var(--fill-color);\n",
              "      border-bottom-color: var(--fill-color);\n",
              "    }\n",
              "    90% {\n",
              "      border-color: transparent;\n",
              "      border-bottom-color: var(--fill-color);\n",
              "    }\n",
              "  }\n",
              "</style>\n",
              "\n",
              "  <script>\n",
              "    async function quickchart(key) {\n",
              "      const quickchartButtonEl =\n",
              "        document.querySelector('#' + key + ' button');\n",
              "      quickchartButtonEl.disabled = true;  // To prevent multiple clicks.\n",
              "      quickchartButtonEl.classList.add('colab-df-spinner');\n",
              "      try {\n",
              "        const charts = await google.colab.kernel.invokeFunction(\n",
              "            'suggestCharts', [key], {});\n",
              "      } catch (error) {\n",
              "        console.error('Error during call to suggestCharts:', error);\n",
              "      }\n",
              "      quickchartButtonEl.classList.remove('colab-df-spinner');\n",
              "      quickchartButtonEl.classList.add('colab-df-quickchart-complete');\n",
              "    }\n",
              "    (() => {\n",
              "      let quickchartButtonEl =\n",
              "        document.querySelector('#df-62f0498e-e6ad-42f1-9659-4236f7d5b9ab button');\n",
              "      quickchartButtonEl.style.display =\n",
              "        google.colab.kernel.accessAllowed ? 'block' : 'none';\n",
              "    })();\n",
              "  </script>\n",
              "</div>\n",
              "\n",
              "    </div>\n",
              "  </div>\n"
            ],
            "application/vnd.google.colaboratory.intrinsic+json": {
              "type": "dataframe",
              "variable_name": "submission",
              "summary": "{\n  \"name\": \"submission\",\n  \"rows\": 6391,\n  \"fields\": [\n    {\n      \"column\": \"id\",\n      \"properties\": {\n        \"dtype\": \"number\",\n        \"std\": 41903009,\n        \"min\": 121510,\n        \"max\": 196749822,\n        \"num_unique_values\": 6391,\n        \"samples\": [\n          109913632,\n          195248101,\n          36972248\n        ],\n        \"semantic_type\": \"\",\n        \"description\": \"\"\n      }\n    },\n    {\n      \"column\": \"X4\",\n      \"properties\": {\n        \"dtype\": \"number\",\n        \"std\": 0.10122398289580645,\n        \"min\": 0.7280620414352192,\n        \"max\": 1.355658203590461,\n        \"num_unique_values\": 6391,\n        \"samples\": [\n          1.0636273572278157,\n          1.1357608807227209,\n          1.1321725340957798\n        ],\n        \"semantic_type\": \"\",\n        \"description\": \"\"\n      }\n    },\n    {\n      \"column\": \"X11\",\n      \"properties\": {\n        \"dtype\": \"number\",\n        \"std\": 4.677319577156578,\n        \"min\": 134.43349793734222,\n        \"max\": 165.70191134513928,\n        \"num_unique_values\": 6391,\n        \"samples\": [\n          148.1664117052085,\n          147.9630766456535,\n          144.4108364297212\n        ],\n        \"semantic_type\": \"\",\n        \"description\": \"\"\n      }\n    },\n    {\n      \"column\": \"X18\",\n      \"properties\": {\n        \"dtype\": \"number\",\n        \"std\": 2.932948419241479,\n        \"min\": 19698.493899037694,\n        \"max\": 19713.34750020842,\n        \"num_unique_values\": 6391,\n        \"samples\": [\n          19701.993819667616,\n          19704.03612270183,\n          19708.672652090245\n        ],\n        \"semantic_type\": \"\",\n        \"description\": \"\"\n      }\n    },\n    {\n      \"column\": \"X26\",\n      \"properties\": {\n        \"dtype\": \"number\",\n        \"std\": 22.101476660307284,\n        \"min\": 3446.0898922137935,\n        \"max\": 3623.872784883796,\n        \"num_unique_values\": 6391,\n        \"samples\": [\n          3472.6229185599905,\n          3495.3599885136427,\n          3591.100419074266\n        ],\n        \"semantic_type\": \"\",\n        \"description\": \"\"\n      }\n    },\n    {\n      \"column\": \"X50\",\n      \"properties\": {\n        \"dtype\": \"number\",\n        \"std\": 0.36326341164036535,\n        \"min\": 13.81962861791689,\n        \"max\": 16.727487580603082,\n        \"num_unique_values\": 6391,\n        \"samples\": [\n          15.085621090310166,\n          15.275357885358385,\n          15.732748018954595\n        ],\n        \"semantic_type\": \"\",\n        \"description\": \"\"\n      }\n    },\n    {\n      \"column\": \"X3112\",\n      \"properties\": {\n        \"dtype\": \"number\",\n        \"std\": 1286.7371691038338,\n        \"min\": 397207.31182770245,\n        \"max\": 405104.49488598085,\n        \"num_unique_values\": 6391,\n        \"samples\": [\n          400421.6261989773,\n          398775.6054116233,\n          402314.6179654738\n        ],\n        \"semantic_type\": \"\",\n        \"description\": \"\"\n      }\n    }\n  ]\n}"
            }
          },
          "metadata": {},
          "execution_count": 14
        }
      ]
    },
    {
      "cell_type": "code",
      "source": [
        "submission.to_csv('20948283_Ali.csv', index=False)"
      ],
      "metadata": {
        "id": "BQcii5A9Xh8U"
      },
      "execution_count": 15,
      "outputs": []
    },
    {
      "cell_type": "code",
      "source": [
        "!zip downloaded_embeddings.zip *image_embs.npy"
      ],
      "metadata": {
        "colab": {
          "base_uri": "https://localhost:8080/"
        },
        "id": "Yi_mKFFMYHix",
        "outputId": "56e4ab03-d1c0-4e91-f60a-56e7cd515f35"
      },
      "execution_count": 9,
      "outputs": [
        {
          "output_type": "stream",
          "name": "stdout",
          "text": [
            "  adding: test_image_embs.npy (deflated 7%)\n",
            "  adding: train_image_embs.npy (deflated 7%)\n",
            "  adding: val_image_embs.npy (deflated 7%)\n"
          ]
        }
      ]
    }
  ]
}